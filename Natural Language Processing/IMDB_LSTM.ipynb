{
 "cells": [
  {
   "cell_type": "markdown",
   "metadata": {
    "id": "tfp2tBZYnE5b"
   },
   "source": [
    "## Download the dataset\n",
    "\n",
    "For this lab, you will use the `subwords8k` pre-tokenized [IMDB Reviews dataset](https://www.tensorflow.org/datasets/catalog/imdb_reviews). You will load it via Tensorflow Datasets as you've done last week:"
   ]
  },
  {
   "cell_type": "code",
   "execution_count": 28,
   "metadata": {
    "colab": {
     "base_uri": "https://localhost:8080/"
    },
    "id": "AW-4Vo4TMUHb",
    "outputId": "a8628a3f-686a-4039-9357-15fa10d17406"
   },
   "outputs": [
    {
     "name": "stderr",
     "output_type": "stream",
     "text": [
      "WARNING:absl:TFDS datasets with text encoding are deprecated and will be removed in a future version. Instead, you should use the plain text version and tokenize the text using `tensorflow_text` (See: https://www.tensorflow.org/tutorials/tensorflow_text/intro#tfdata_example)\n"
     ]
    }
   ],
   "source": [
    "import tensorflow_datasets as tfds\n",
    "\n",
    "# Download the subword encoded pretokenized dataset\n",
    "dataset, info = tfds.load('imdb_reviews/subwords8k', with_info=True, as_supervised=True)\n",
    "\n",
    "# Get the tokenizer\n",
    "tokenizer = info.features['text'].encoder"
   ]
  },
  {
   "cell_type": "code",
   "execution_count": 29,
   "metadata": {
    "colab": {
     "base_uri": "https://localhost:8080/"
    },
    "id": "N9PyqL1YZegC",
    "outputId": "fcf90b18-dcf4-42ff-f91c-d2e1d7cddd06"
   },
   "outputs": [
    {
     "data": {
      "text/plain": [
       "['__abstractmethods__',\n",
       " '__annotations__',\n",
       " '__class__',\n",
       " '__delattr__',\n",
       " '__dict__',\n",
       " '__dir__',\n",
       " '__doc__',\n",
       " '__eq__',\n",
       " '__format__',\n",
       " '__ge__',\n",
       " '__getattribute__',\n",
       " '__gt__',\n",
       " '__hash__',\n",
       " '__init__',\n",
       " '__init_subclass__',\n",
       " '__le__',\n",
       " '__lt__',\n",
       " '__module__',\n",
       " '__ne__',\n",
       " '__new__',\n",
       " '__reduce__',\n",
       " '__reduce_ex__',\n",
       " '__repr__',\n",
       " '__setattr__',\n",
       " '__sizeof__',\n",
       " '__str__',\n",
       " '__subclasshook__',\n",
       " '__weakref__',\n",
       " '_abc_impl',\n",
       " '_additional_repr_info',\n",
       " '_dtype',\n",
       " '_encoder',\n",
       " '_encoder_cls',\n",
       " '_encoder_config',\n",
       " '_flatten',\n",
       " '_nest',\n",
       " '_registered_features',\n",
       " '_shape',\n",
       " 'decode_batch_example',\n",
       " 'decode_example',\n",
       " 'decode_ragged_example',\n",
       " 'dtype',\n",
       " 'encode_example',\n",
       " 'encoder',\n",
       " 'from_config',\n",
       " 'from_json',\n",
       " 'from_json_content',\n",
       " 'get_serialized_info',\n",
       " 'get_tensor_info',\n",
       " 'ints2str',\n",
       " 'load_metadata',\n",
       " 'maybe_build_from_corpus',\n",
       " 'maybe_set_encoder',\n",
       " 'repr_html',\n",
       " 'repr_html_batch',\n",
       " 'repr_html_ragged',\n",
       " 'save_config',\n",
       " 'save_metadata',\n",
       " 'shape',\n",
       " 'str2ints',\n",
       " 'to_json',\n",
       " 'to_json_content',\n",
       " 'vocab_size']"
      ]
     },
     "execution_count": 29,
     "metadata": {},
     "output_type": "execute_result"
    }
   ],
   "source": [
    "dir(info.features['text'])"
   ]
  },
  {
   "cell_type": "code",
   "execution_count": 30,
   "metadata": {
    "colab": {
     "base_uri": "https://localhost:8080/"
    },
    "id": "ik9swxO7ZegC",
    "outputId": "b7a8d930-b6ef-4a92-9da1-b4e83cb77ec4"
   },
   "outputs": [
    {
     "data": {
      "text/plain": [
       "dict_keys(['text', 'label'])"
      ]
     },
     "execution_count": 30,
     "metadata": {},
     "output_type": "execute_result"
    }
   ],
   "source": [
    "info.features.keys()"
   ]
  },
  {
   "cell_type": "code",
   "execution_count": 31,
   "metadata": {
    "id": "ffvRUI0_McDS"
   },
   "outputs": [],
   "source": [
    "BUFFER_SIZE = 10000\n",
    "BATCH_SIZE = 256\n",
    "\n",
    "# Get the train and test splits\n",
    "train_data, test_data = dataset['train'], dataset['test'], \n",
    "\n",
    "# Shuffle the training data\n",
    "train_dataset = train_data.shuffle(BUFFER_SIZE)\n",
    "\n",
    "# Batch and pad the datasets to the maximum length of the sequences\n",
    "train_dataset = train_dataset.padded_batch(BATCH_SIZE)\n",
    "test_dataset = test_data.padded_batch(BATCH_SIZE)"
   ]
  },
  {
   "cell_type": "code",
   "execution_count": 32,
   "metadata": {
    "colab": {
     "base_uri": "https://localhost:8080/"
    },
    "id": "uUUdJFTcZegE",
    "outputId": "53253450-fff3-4e03-f588-7b20bd623931"
   },
   "outputs": [
    {
     "name": "stdout",
     "output_type": "stream",
     "text": [
      "tf.Tensor(\n",
      "[[1162  622    2 ...    0    0    0]\n",
      " [4344    2   82 ...    0    0    0]\n",
      " [3694 7606 8032 ...    0    0    0]\n",
      " ...\n",
      " [  12 4591 7961 ...    0    0    0]\n",
      " [7915 7961  989 ...    0    0    0]\n",
      " [3035  105    5 ...    0    0    0]], shape=(256, 1451), dtype=int64)\n"
     ]
    }
   ],
   "source": [
    "# Why each bach is padded differently\n",
    "for example in train_dataset.take(1):\n",
    "  print(example[0])"
   ]
  },
  {
   "cell_type": "code",
   "execution_count": 33,
   "metadata": {
    "colab": {
     "base_uri": "https://localhost:8080/"
    },
    "id": "vW2J5rPlZegF",
    "outputId": "1a4e7879-c879-4982-e7bc-3305dc8a8459",
    "scrolled": true
   },
   "outputs": [
    {
     "name": "stdout",
     "output_type": "stream",
     "text": [
      "This was an absolutely terrible movie. Don't be lured in by Christopher Walken or Michael Ironside. Both are great actors, but this must simply be their worst role in history. Even their great acting could not redeem this movie's ridiculous storyline. This movie is an early nineties US propaganda piece. The most pathetic scenes were those when the Columbian rebels were making their cases for revolutions. Maria Conchita Alonso appeared phony, and her pseudo-love affair with Walken was nothing but a pathetic emotional plug in a movie that was devoid of any real meaning. I am disappointed that there are movies like this, ruining actor's like Christopher Walken's good name. I could barely sit through it.\n",
      "I have been known to fall asleep during films, but this is usually due to a combination of things including, really tired, being warm and comfortable on the sette and having just eaten a lot. However on this occasion I fell asleep because the film was rubbish. The plot development was constant. Constantly slow and boring. Things seemed to happen, but with no explanation of what was causing them or why. I admit, I may have missed part of the film, but i watched the majority of it and everything just seemed to happen of its own accord without any real concern for anything else. I cant recommend this film at all.\n",
      "tf.Tensor(0, shape=(), dtype=int64)\n",
      "tf.Tensor(0, shape=(), dtype=int64)\n"
     ]
    }
   ],
   "source": [
    "tokenizer_subwords =  info.features['text'].encoder\n",
    "\n",
    "for example in dataset['train'].take(2):\n",
    "  print(tokenizer_subwords.decode(example[0]))\n",
    "\n",
    "for example in dataset['train'].take(2):\n",
    "  print(example[1])"
   ]
  },
  {
   "cell_type": "code",
   "execution_count": 34,
   "metadata": {
    "colab": {
     "base_uri": "https://localhost:8080/"
    },
    "id": "pFusCzokZegE",
    "outputId": "3e56309e-f32f-4765-cae8-eaec858994e6",
    "scrolled": true
   },
   "outputs": [
    {
     "name": "stdout",
     "output_type": "stream",
     "text": [
      "This film is about a group of extra terrestrial gay black men exterminating females on Earth, in order to create a gay Universe.<br /><br />I watched it with the intent of seeing how bad it was. Still, I was shocked at how bad it was. It looked more like a film made 50 years ago. The acting, if any, is ultra bad. The sets and props are so ridiculously fake, making any college film look mega budget. And the special effects are laughably simple, indeed jaw dropping as others have commented, but jaw droppingly embarrassing.<br /><br />One has to be severely intoxicated, or in an altered state of consciousness in order to appreciate this film. If I was from Denmark, I would be severely embarrassed and humiliated that my countrymen produced such a horrifyingly bad film.\n"
     ]
    }
   ],
   "source": [
    "# <br /> is line break\n",
    "for example in train_dataset.take(1):\n",
    "  print(tokenizer_subwords.decode(example[0][0,:]))"
   ]
  },
  {
   "cell_type": "markdown",
   "metadata": {
    "id": "4HkUeYNWoi9j"
   },
   "source": [
    "## Build and compile the model\n",
    "\n",
    "[Biderectional](https://www.tensorflow.org/api_docs/python/tf/keras/layers/Bidirectional)\n",
    "passing of the sequence information goes both forwards and backwards."
   ]
  },
  {
   "cell_type": "code",
   "execution_count": 35,
   "metadata": {
    "colab": {
     "base_uri": "https://localhost:8080/"
    },
    "id": "FxQooMEkMgur",
    "outputId": "17178fa0-4030-4697-a4f3-bdd42773f06e"
   },
   "outputs": [
    {
     "name": "stdout",
     "output_type": "stream",
     "text": [
      "Model: \"sequential_2\"\n",
      "_________________________________________________________________\n",
      " Layer (type)                Output Shape              Param #   \n",
      "=================================================================\n",
      " embedding_2 (Embedding)     (None, None, 64)          523840    \n",
      "                                                                 \n",
      " bidirectional_3 (Bidirectio  (None, 128)              66048     \n",
      " nal)                                                            \n",
      "                                                                 \n",
      " dense_4 (Dense)             (None, 64)                8256      \n",
      "                                                                 \n",
      " dense_5 (Dense)             (None, 1)                 65        \n",
      "                                                                 \n",
      "=================================================================\n",
      "Total params: 598,209\n",
      "Trainable params: 598,209\n",
      "Non-trainable params: 0\n",
      "_________________________________________________________________\n"
     ]
    }
   ],
   "source": [
    "import tensorflow as tf\n",
    "\n",
    "# Hyperparameters\n",
    "embedding_dim = 64\n",
    "lstm_dim = 64\n",
    "dense_dim = 64\n",
    "\n",
    "# Build the model\n",
    "model = tf.keras.Sequential([\n",
    "    tf.keras.layers.Embedding(tokenizer.vocab_size, embedding_dim),\n",
    "    tf.keras.layers.Bidirectional(tf.keras.layers.LSTM(lstm_dim)),\n",
    "    tf.keras.layers.Dense(dense_dim, activation='relu'),\n",
    "    tf.keras.layers.Dense(1, activation='sigmoid')\n",
    "])\n",
    "\n",
    "# Print the model summary\n",
    "model.summary()"
   ]
  },
  {
   "cell_type": "code",
   "execution_count": 36,
   "metadata": {
    "id": "Uip7QOVzMoMq"
   },
   "outputs": [],
   "source": [
    "# Set the training parameters\n",
    "model.compile(loss='binary_crossentropy', optimizer='adam', metrics=['accuracy'])"
   ]
  },
  {
   "cell_type": "code",
   "execution_count": 37,
   "metadata": {
    "colab": {
     "base_uri": "https://localhost:8080/"
    },
    "id": "7mlgzaRDMtF6",
    "outputId": "39a16dc4-020a-4255-e340-c124eb12a035"
   },
   "outputs": [
    {
     "name": "stdout",
     "output_type": "stream",
     "text": [
      "Epoch 1/10\n",
      "98/98 [==============================] - 30s 265ms/step - loss: 0.5574 - accuracy: 0.6916 - val_loss: 0.4155 - val_accuracy: 0.8151\n",
      "Epoch 2/10\n",
      "98/98 [==============================] - 26s 264ms/step - loss: 0.3380 - accuracy: 0.8647 - val_loss: 0.4335 - val_accuracy: 0.8094\n",
      "Epoch 3/10\n",
      "98/98 [==============================] - 26s 254ms/step - loss: 0.2664 - accuracy: 0.9005 - val_loss: 0.4166 - val_accuracy: 0.8191\n",
      "Epoch 4/10\n",
      "98/98 [==============================] - 26s 255ms/step - loss: 0.2298 - accuracy: 0.9156 - val_loss: 0.4130 - val_accuracy: 0.8302\n",
      "Epoch 5/10\n",
      "98/98 [==============================] - 26s 265ms/step - loss: 0.1970 - accuracy: 0.9308 - val_loss: 0.4199 - val_accuracy: 0.8421\n",
      "Epoch 6/10\n",
      "98/98 [==============================] - 26s 257ms/step - loss: 0.1890 - accuracy: 0.9311 - val_loss: 0.4407 - val_accuracy: 0.8317\n",
      "Epoch 7/10\n",
      "98/98 [==============================] - 26s 257ms/step - loss: 0.1423 - accuracy: 0.9515 - val_loss: 0.4638 - val_accuracy: 0.8362\n",
      "Epoch 8/10\n",
      "98/98 [==============================] - 25s 255ms/step - loss: 0.1222 - accuracy: 0.9612 - val_loss: 0.5973 - val_accuracy: 0.8302\n",
      "Epoch 9/10\n",
      "98/98 [==============================] - 25s 256ms/step - loss: 0.1167 - accuracy: 0.9619 - val_loss: 0.5949 - val_accuracy: 0.8240\n",
      "Epoch 10/10\n",
      "98/98 [==============================] - 26s 257ms/step - loss: 0.0966 - accuracy: 0.9668 - val_loss: 0.6704 - val_accuracy: 0.8291\n"
     ]
    }
   ],
   "source": [
    "NUM_EPOCHS = 10\n",
    "\n",
    "history = model.fit(train_dataset, epochs=NUM_EPOCHS, validation_data=test_dataset)"
   ]
  },
  {
   "cell_type": "code",
   "execution_count": 38,
   "metadata": {
    "colab": {
     "base_uri": "https://localhost:8080/",
     "height": 541
    },
    "id": "Mp1Z7P9pYRSK",
    "outputId": "f767e80b-cf75-408c-a3a2-e626f27686f8"
   },
   "outputs": [
    {
     "data": {
      "image/png": "[encoded data removed]",
      "text/plain": [
       "<Figure size 432x288 with 1 Axes>"
      ]
     },
     "metadata": {
      "needs_background": "light"
     },
     "output_type": "display_data"
    },
    {
     "data": {
      "image/png": "[encoded data removed]",
      "text/plain": [
       "<Figure size 432x288 with 1 Axes>"
      ]
     },
     "metadata": {
      "needs_background": "light"
     },
     "output_type": "display_data"
    }
   ],
   "source": [
    "import matplotlib.pyplot as plt\n",
    "\n",
    "# Plot utility\n",
    "def plot_graphs(history, string):\n",
    "  plt.plot(history.history[string])\n",
    "  plt.plot(history.history['val_'+string])\n",
    "  plt.xlabel(\"Epochs\")\n",
    "  plt.ylabel(string)\n",
    "  plt.legend([string, 'val_'+string])\n",
    "  plt.show()\n",
    "\n",
    "# Plot the accuracy and results \n",
    "plot_graphs(history, \"accuracy\")\n",
    "plot_graphs(history, \"loss\")"
   ]
  },
  {
   "cell_type": "markdown",
   "metadata": {},
   "source": [
    "# Two LSTM"
   ]
  },
  {
   "cell_type": "code",
   "execution_count": 39,
   "metadata": {
    "colab": {
     "base_uri": "https://localhost:8080/"
    },
    "id": "AGp0a5rTduIG",
    "outputId": "b87e6070-c37e-435d-8f23-f51eddf7f665"
   },
   "outputs": [
    {
     "name": "stdout",
     "output_type": "stream",
     "text": [
      "Model: \"sequential_3\"\n",
      "_________________________________________________________________\n",
      " Layer (type)                Output Shape              Param #   \n",
      "=================================================================\n",
      " embedding_3 (Embedding)     (None, None, 64)          523840    \n",
      "                                                                 \n",
      " bidirectional_4 (Bidirectio  (None, None, 128)        66048     \n",
      " nal)                                                            \n",
      "                                                                 \n",
      " bidirectional_5 (Bidirectio  (None, 64)               41216     \n",
      " nal)                                                            \n",
      "                                                                 \n",
      " dense_6 (Dense)             (None, 64)                4160      \n",
      "                                                                 \n",
      " dense_7 (Dense)             (None, 1)                 65        \n",
      "                                                                 \n",
      "=================================================================\n",
      "Total params: 635,329\n",
      "Trainable params: 635,329\n",
      "Non-trainable params: 0\n",
      "_________________________________________________________________\n"
     ]
    }
   ],
   "source": [
    "# Hyperparameters\n",
    "embedding_dim = 64\n",
    "lstm1_dim = 64\n",
    "lstm2_dim = 32\n",
    "dense_dim = 64\n",
    "\n",
    "# Build the model\n",
    "model2 = tf.keras.Sequential([\n",
    "    tf.keras.layers.Embedding(tokenizer.vocab_size, embedding_dim),\n",
    "    tf.keras.layers.Bidirectional(tf.keras.layers.LSTM(lstm1_dim, return_sequences=True)),\n",
    "    tf.keras.layers.Bidirectional(tf.keras.layers.LSTM(lstm2_dim)),\n",
    "    tf.keras.layers.Dense(dense_dim, activation='relu'),\n",
    "    tf.keras.layers.Dense(1, activation='sigmoid')\n",
    "])\n",
    "\n",
    "# Print the model summary\n",
    "model2.summary()"
   ]
  },
  {
   "cell_type": "code",
   "execution_count": 40,
   "metadata": {
    "id": "sPE4iw3Md__f"
   },
   "outputs": [],
   "source": [
    "# Set the training parameters\n",
    "model2.compile(loss='binary_crossentropy', optimizer='adam', metrics=['accuracy'])"
   ]
  },
  {
   "cell_type": "code",
   "execution_count": 41,
   "metadata": {
    "colab": {
     "base_uri": "https://localhost:8080/"
    },
    "id": "ilEid9JQeAve",
    "outputId": "078b5a1f-9dce-4a13-a2d8-29a563b38567"
   },
   "outputs": [
    {
     "name": "stdout",
     "output_type": "stream",
     "text": [
      "Epoch 1/10\n",
      "98/98 [==============================] - 51s 471ms/step - loss: 0.5643 - accuracy: 0.6898 - val_loss: 0.4210 - val_accuracy: 0.8167\n",
      "Epoch 2/10\n",
      "98/98 [==============================] - 45s 457ms/step - loss: 0.3128 - accuracy: 0.8769 - val_loss: 0.3543 - val_accuracy: 0.8608\n",
      "Epoch 3/10\n",
      "98/98 [==============================] - 46s 469ms/step - loss: 0.2312 - accuracy: 0.9157 - val_loss: 0.4037 - val_accuracy: 0.8193\n",
      "Epoch 4/10\n",
      "98/98 [==============================] - 45s 454ms/step - loss: 0.1887 - accuracy: 0.9328 - val_loss: 0.4612 - val_accuracy: 0.8134\n",
      "Epoch 5/10\n",
      "98/98 [==============================] - 46s 461ms/step - loss: 0.1446 - accuracy: 0.9512 - val_loss: 0.5184 - val_accuracy: 0.8310\n",
      "Epoch 6/10\n",
      "98/98 [==============================] - 45s 458ms/step - loss: 0.1164 - accuracy: 0.9604 - val_loss: 0.5348 - val_accuracy: 0.8372\n",
      "Epoch 7/10\n",
      "98/98 [==============================] - 45s 454ms/step - loss: 0.1301 - accuracy: 0.9536 - val_loss: 0.5597 - val_accuracy: 0.8127\n",
      "Epoch 8/10\n",
      "98/98 [==============================] - 46s 463ms/step - loss: 0.0766 - accuracy: 0.9754 - val_loss: 0.6197 - val_accuracy: 0.8301\n",
      "Epoch 9/10\n",
      "98/98 [==============================] - 45s 452ms/step - loss: 0.0847 - accuracy: 0.9715 - val_loss: 0.6849 - val_accuracy: 0.8090\n",
      "Epoch 10/10\n",
      "98/98 [==============================] - 46s 461ms/step - loss: 0.0998 - accuracy: 0.9659 - val_loss: 0.6472 - val_accuracy: 0.8258\n"
     ]
    }
   ],
   "source": [
    "NUM_EPOCHS = 10\n",
    "\n",
    "# Train the model\n",
    "history = model2.fit(train_dataset, epochs=NUM_EPOCHS, validation_data=test_dataset)"
   ]
  },
  {
   "cell_type": "code",
   "execution_count": 42,
   "metadata": {
    "colab": {
     "base_uri": "https://localhost:8080/",
     "height": 541
    },
    "id": "2KRJtD0EeGsj",
    "outputId": "2e21783d-ce60-4088-f6d4-aa85bb5a87a8"
   },
   "outputs": [
    {
     "data": {
      "image/png": "[encoded data removed]",
      "text/plain": [
       "<Figure size 432x288 with 1 Axes>"
      ]
     },
     "metadata": {
      "needs_background": "light"
     },
     "output_type": "display_data"
    },
    {
     "data": {
      "image/png": "[encoded data removed]",
      "text/plain": [
       "<Figure size 432x288 with 1 Axes>"
      ]
     },
     "metadata": {
      "needs_background": "light"
     },
     "output_type": "display_data"
    }
   ],
   "source": [
    "import matplotlib.pyplot as plt\n",
    "\n",
    "# Plot utility\n",
    "def plot_graphs(history, string):\n",
    "  plt.plot(history.history[string])\n",
    "  plt.plot(history.history['val_'+string])\n",
    "  plt.xlabel(\"Epochs\")\n",
    "  plt.ylabel(string)\n",
    "  plt.legend([string, 'val_'+string])\n",
    "  plt.show()\n",
    "\n",
    "# Plot the accuracy and results \n",
    "plot_graphs(history, \"accuracy\")\n",
    "plot_graphs(history, \"loss\")"
   ]
  },
  {
   "cell_type": "code",
   "execution_count": 43,
   "metadata": {
    "colab": {
     "base_uri": "https://localhost:8080/"
    },
    "id": "ozsD61NfeLTp",
    "outputId": "f8ef9748-56ee-44dd-cecb-d07d6b3214ef"
   },
   "outputs": [
    {
     "name": "stdout",
     "output_type": "stream",
     "text": [
      "583fd26ef23c\n"
     ]
    }
   ],
   "source": [
    "!hostname"
   ]
  },
  {
   "cell_type": "code",
   "execution_count": 44,
   "metadata": {
    "colab": {
     "base_uri": "https://localhost:8080/"
    },
    "id": "Ee7nIoVteNib",
    "outputId": "f4531ada-4265-4348-e553-3799669a53c0"
   },
   "outputs": [
    {
     "name": "stdout",
     "output_type": "stream",
     "text": [
      "Sun Jul 10 19:29:59 2022       \n",
      "+-----------------------------------------------------------------------------+\n",
      "| NVIDIA-SMI 460.32.03    Driver Version: 460.32.03    CUDA Version: 11.2     |\n",
      "|-------------------------------+----------------------+----------------------+\n",
      "| GPU  Name        Persistence-M| Bus-Id        Disp.A | Volatile Uncorr. ECC |\n",
      "| Fan  Temp  Perf  Pwr:Usage/Cap|         Memory-Usage | GPU-Util  Compute M. |\n",
      "|                               |                      |               MIG M. |\n",
      "|===============================+======================+======================|\n",
      "|   0  Tesla T4            Off  | 00000000:00:04.0 Off |                    0 |\n",
      "| N/A   78C    P0    46W /  70W |  14486MiB / 15109MiB |      0%      Default |\n",
      "|                               |                      |                  N/A |\n",
      "+-------------------------------+----------------------+----------------------+\n",
      "                                                                               \n",
      "+-----------------------------------------------------------------------------+\n",
      "| Processes:                                                                  |\n",
      "|  GPU   GI   CI        PID   Type   Process name                  GPU Memory |\n",
      "|        ID   ID                                                   Usage      |\n",
      "|=============================================================================|\n",
      "+-----------------------------------------------------------------------------+\n"
     ]
    }
   ],
   "source": [
    "!nvidia-smi"
   ]
  },
  {
   "cell_type": "code",
   "execution_count": 44,
   "metadata": {
    "id": "WVfAyY_3ePA7"
   },
   "outputs": [],
   "source": []
  }
 ],
 "metadata": {
  "accelerator": "GPU",
  "colab": {
   "collapsed_sections": [],
   "name": "C3_W3_Lab_1_single_layer_LSTM.ipynb",
   "provenance": []
  },
  "gpuClass": "standard",
  "kernelspec": {
   "display_name": "Python 3",
   "language": "python",
   "name": "python3"
  },
  "language_info": {
   "codemirror_mode": {
    "name": "ipython",
    "version": 3
   },
   "file_extension": ".py",
   "mimetype": "text/x-python",
   "name": "python",
   "nbconvert_exporter": "python",
   "pygments_lexer": "ipython3",
   "version": "3.8.8"
  }
 },
 "nbformat": 4,
 "nbformat_minor": 1
}
