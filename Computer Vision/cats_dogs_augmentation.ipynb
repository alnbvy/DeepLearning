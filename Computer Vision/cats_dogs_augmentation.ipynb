{
 "cells": [
  {
   "cell_type": "markdown",
   "metadata": {},
   "source": [
    "<a href=\"https://colab.research.google.com/github/https-deeplearning-ai/tensorflow-1-public/blob/master/C2/W2/ungraded_labs/C2_W2_Lab_1_cats_v_dogs_augmentation.ipynb\" target=\"_parent\"><img src=\"https://colab.research.google.com/assets/colab-badge.svg\" alt=\"Open In Colab\"/></a>"
   ]
  },
  {
   "cell_type": "code",
   "execution_count": 1,
   "metadata": {},
   "outputs": [
    {
     "name": "stdout",
     "output_type": "stream",
     "text": [
      "Writing download.sh\n"
     ]
    }
   ],
   "source": [
    "#%%writefile download.sh\n",
    "\n",
    "#!/bin/bash\n",
    "#fileid=\"$1\"\n",
    "#filename=\"$2\"\n",
    "#html=`curl -c ./cookie -s -L \"https://drive.google.com/uc?export=download&id=${fileid}\"`\n",
    "#curl -Lb ./cookie \"https://drive.google.com/uc?export=download&`echo ${html}|grep -Po '(confirm=[a-zA-Z0-9\\-_]+)'`&id=${fileid}\" -o ${filename}"
   ]
  },
  {
   "cell_type": "code",
   "execution_count": 4,
   "metadata": {
    "id": "zJZIF29-dIRv"
   },
   "outputs": [],
   "source": [
    "# Download the dataset\n",
    "#!bash download.sh 1RL0T7Rg4XqQNRCkjfnLo4goOJQ7XZro9 cats_and_dogs_filtered.zip"
   ]
  },
  {
   "cell_type": "code",
   "execution_count": 1,
   "metadata": {
    "id": "_DyUfCTgdwa8"
   },
   "outputs": [],
   "source": [
    "import os\n",
    "import zipfile\n",
    "\n",
    "# Extract the archive\n",
    "zip_ref = zipfile.ZipFile(\"./cats_and_dogs_filtered.zip\", 'r')\n",
    "zip_ref.extractall(\"tmp/\")\n",
    "zip_ref.close()\n",
    "\n",
    "# Assign training and validation set directories\n",
    "base_dir = 'tmp/cats_and_dogs_filtered'\n",
    "train_dir = os.path.join(base_dir, 'train')\n",
    "validation_dir = os.path.join(base_dir, 'validation')\n",
    "\n",
    "# Directory with training cat pictures\n",
    "train_cats_dir = os.path.join(train_dir, 'cats')\n",
    "\n",
    "# Directory with training dog pictures\n",
    "train_dogs_dir = os.path.join(train_dir, 'dogs')\n",
    "\n",
    "# Directory with validation cat pictures\n",
    "validation_cats_dir = os.path.join(validation_dir, 'cats')\n",
    "\n",
    "# Directory with validation dog pictures\n",
    "validation_dogs_dir = os.path.join(validation_dir, 'dogs')"
   ]
  },
  {
   "cell_type": "code",
   "execution_count": 2,
   "metadata": {
    "id": "uWllK_Wad-Mx"
   },
   "outputs": [],
   "source": [
    "import tensorflow as tf\n",
    "from tensorflow.keras.optimizers import RMSprop\n",
    "\n",
    "def create_model():\n",
    "  '''Creates a CNN with 4 convolutional layers'''\n",
    "  model = tf.keras.models.Sequential([\n",
    "      tf.keras.layers.Conv2D(32, (3,3), activation='relu', input_shape=(150, 150, 3)),\n",
    "      tf.keras.layers.MaxPooling2D(2, 2),\n",
    "      tf.keras.layers.Conv2D(64, (3,3), activation='relu'),\n",
    "      tf.keras.layers.MaxPooling2D(2,2),\n",
    "      tf.keras.layers.Conv2D(128, (3,3), activation='relu'),\n",
    "      tf.keras.layers.MaxPooling2D(2,2),\n",
    "      tf.keras.layers.Conv2D(128, (3,3), activation='relu'),\n",
    "      tf.keras.layers.MaxPooling2D(2,2),\n",
    "      tf.keras.layers.Flatten(),\n",
    "      tf.keras.layers.Dense(512, activation='relu'),\n",
    "      tf.keras.layers.Dense(1, activation='sigmoid')\n",
    "  ])\n",
    "\n",
    "  model.compile(loss='binary_crossentropy',\n",
    "                optimizer=RMSprop(learning_rate=1e-4),\n",
    "                metrics=['accuracy'])\n",
    "  \n",
    "  return model"
   ]
  },
  {
   "cell_type": "code",
   "execution_count": 3,
   "metadata": {
    "id": "MJPyDEzOqrKB"
   },
   "outputs": [
    {
     "name": "stdout",
     "output_type": "stream",
     "text": [
      "Found 2000 images belonging to 2 classes.\n",
      "Found 1000 images belonging to 2 classes.\n"
     ]
    }
   ],
   "source": [
    "from tensorflow.keras.preprocessing.image import ImageDataGenerator\n",
    "\n",
    "# All images will be rescaled by 1./255\n",
    "train_datagen = ImageDataGenerator(rescale=1./255)\n",
    "test_datagen = ImageDataGenerator(rescale=1./255)\n",
    "\n",
    "# Flow training images in batches of 20 using train_datagen generator\n",
    "train_generator = train_datagen.flow_from_directory(\n",
    "        train_dir,  # This is the source directory for training images\n",
    "        target_size=(150, 150),  # All images will be resized to 150x150\n",
    "        batch_size=20,\n",
    "        # Since we use binary_crossentropy loss, we need binary labels\n",
    "        class_mode='binary')\n",
    "\n",
    "# Flow validation images in batches of 20 using test_datagen generator\n",
    "validation_generator = test_datagen.flow_from_directory(\n",
    "        validation_dir,\n",
    "        target_size=(150, 150),\n",
    "        batch_size=20,\n",
    "        class_mode='binary')"
   ]
  },
  {
   "cell_type": "code",
   "execution_count": 4,
   "metadata": {
    "id": "hdqUoF44esR3"
   },
   "outputs": [
    {
     "name": "stdout",
     "output_type": "stream",
     "text": [
      "Epoch 1/20\n",
      "100/100 - 30s - loss: 0.6866 - accuracy: 0.5315 - val_loss: 0.6568 - val_accuracy: 0.6350 - 30s/epoch - 304ms/step\n",
      "Epoch 2/20\n",
      "100/100 - 30s - loss: 0.6383 - accuracy: 0.6350 - val_loss: 0.6115 - val_accuracy: 0.6690 - 30s/epoch - 298ms/step\n",
      "Epoch 3/20\n",
      "100/100 - 30s - loss: 0.5853 - accuracy: 0.7000 - val_loss: 0.5860 - val_accuracy: 0.6730 - 30s/epoch - 295ms/step\n",
      "Epoch 4/20\n",
      "100/100 - 28s - loss: 0.5650 - accuracy: 0.7120 - val_loss: 0.5831 - val_accuracy: 0.6960 - 28s/epoch - 278ms/step\n",
      "Epoch 5/20\n",
      "100/100 - 28s - loss: 0.5326 - accuracy: 0.7305 - val_loss: 0.5720 - val_accuracy: 0.7000 - 28s/epoch - 283ms/step\n",
      "Epoch 6/20\n",
      "100/100 - 28s - loss: 0.5059 - accuracy: 0.7510 - val_loss: 0.5986 - val_accuracy: 0.6820 - 28s/epoch - 280ms/step\n",
      "Epoch 7/20\n",
      "100/100 - 28s - loss: 0.4869 - accuracy: 0.7670 - val_loss: 0.5907 - val_accuracy: 0.6840 - 28s/epoch - 281ms/step\n",
      "Epoch 8/20\n",
      "100/100 - 30s - loss: 0.4597 - accuracy: 0.7760 - val_loss: 0.5751 - val_accuracy: 0.7030 - 30s/epoch - 296ms/step\n",
      "Epoch 9/20\n",
      "100/100 - 31s - loss: 0.4375 - accuracy: 0.7930 - val_loss: 0.5726 - val_accuracy: 0.7110 - 31s/epoch - 307ms/step\n",
      "Epoch 10/20\n",
      "100/100 - 29s - loss: 0.4131 - accuracy: 0.8130 - val_loss: 0.5328 - val_accuracy: 0.7330 - 29s/epoch - 293ms/step\n",
      "Epoch 11/20\n",
      "100/100 - 32s - loss: 0.3819 - accuracy: 0.8355 - val_loss: 0.5208 - val_accuracy: 0.7540 - 32s/epoch - 323ms/step\n",
      "Epoch 12/20\n",
      "100/100 - 31s - loss: 0.3576 - accuracy: 0.8440 - val_loss: 0.5085 - val_accuracy: 0.7520 - 31s/epoch - 307ms/step\n",
      "Epoch 13/20\n",
      "100/100 - 29s - loss: 0.3386 - accuracy: 0.8540 - val_loss: 0.6141 - val_accuracy: 0.7100 - 29s/epoch - 291ms/step\n",
      "Epoch 14/20\n",
      "100/100 - 30s - loss: 0.3174 - accuracy: 0.8635 - val_loss: 0.5087 - val_accuracy: 0.7530 - 30s/epoch - 302ms/step\n",
      "Epoch 15/20\n",
      "100/100 - 35s - loss: 0.3038 - accuracy: 0.8810 - val_loss: 0.5298 - val_accuracy: 0.7400 - 35s/epoch - 354ms/step\n",
      "Epoch 16/20\n",
      "100/100 - 30s - loss: 0.2749 - accuracy: 0.8945 - val_loss: 0.6386 - val_accuracy: 0.7190 - 30s/epoch - 295ms/step\n",
      "Epoch 17/20\n",
      "100/100 - 28s - loss: 0.2557 - accuracy: 0.8960 - val_loss: 0.5852 - val_accuracy: 0.7350 - 28s/epoch - 278ms/step\n",
      "Epoch 18/20\n",
      "100/100 - 29s - loss: 0.2346 - accuracy: 0.9135 - val_loss: 0.5401 - val_accuracy: 0.7510 - 29s/epoch - 287ms/step\n",
      "Epoch 19/20\n",
      "100/100 - 30s - loss: 0.2083 - accuracy: 0.9210 - val_loss: 0.6132 - val_accuracy: 0.7370 - 30s/epoch - 301ms/step\n",
      "Epoch 20/20\n",
      "100/100 - 29s - loss: 0.1954 - accuracy: 0.9290 - val_loss: 0.5904 - val_accuracy: 0.7440 - 29s/epoch - 289ms/step\n"
     ]
    }
   ],
   "source": [
    "# Constant for epochs\n",
    "EPOCHS = 20\n",
    "\n",
    "# Create a new model\n",
    "model = create_model()\n",
    "\n",
    "# Train the model\n",
    "history = model.fit(\n",
    "      train_generator,\n",
    "      steps_per_epoch=100,  # 2000 images = batch_size * steps\n",
    "      epochs=EPOCHS,\n",
    "      validation_data=validation_generator,\n",
    "      validation_steps=50,  # 1000 images = batch_size * steps\n",
    "      verbose=2)"
   ]
  },
  {
   "cell_type": "code",
   "execution_count": 5,
   "metadata": {
    "id": "GZWPcmKWO303"
   },
   "outputs": [],
   "source": [
    "import matplotlib.pyplot as plt\n",
    "\n",
    "def plot_loss_acc(history):\n",
    "  '''Plots the training and validation loss and accuracy from a history object'''\n",
    "  acc = history.history['accuracy']\n",
    "  val_acc = history.history['val_accuracy']\n",
    "  loss = history.history['loss']\n",
    "  val_loss = history.history['val_loss']\n",
    "\n",
    "  epochs = range(len(acc))\n",
    "\n",
    "  plt.plot(epochs, acc, 'bo', label='Training accuracy')\n",
    "  plt.plot(epochs, val_acc, 'b', label='Validation accuracy')\n",
    "  plt.title('Training and validation accuracy')\n",
    "\n",
    "  plt.figure()\n",
    "\n",
    "  plt.plot(epochs, loss, 'bo', label='Training Loss')\n",
    "  plt.plot(epochs, val_loss, 'b', label='Validation Loss')\n",
    "  plt.title('Training and validation loss')\n",
    "  plt.legend()\n",
    "\n",
    "  plt.show()"
   ]
  },
  {
   "cell_type": "code",
   "execution_count": 6,
   "metadata": {
    "id": "Vojz4NYXiT_f"
   },
   "outputs": [
    {
     "data": {
      "image/png": "[encoded data removed]",
      "text/plain": [
       "<Figure size 432x288 with 1 Axes>"
      ]
     },
     "metadata": {
      "needs_background": "light"
     },
     "output_type": "display_data"
    },
    {
     "data": {
      "image/png": "[encoded data removed]",
      "text/plain": [
       "<Figure size 432x288 with 1 Axes>"
      ]
     },
     "metadata": {
      "needs_background": "light"
     },
     "output_type": "display_data"
    }
   ],
   "source": [
    "# Plot training results\n",
    "plot_loss_acc(history)"
   ]
  },
  {
   "cell_type": "markdown",
   "metadata": {},
   "source": [
    "# Data augmentation"
   ]
  },
  {
   "cell_type": "code",
   "execution_count": 7,
   "metadata": {
    "id": "UK7_Fflgv8YC"
   },
   "outputs": [
    {
     "name": "stdout",
     "output_type": "stream",
     "text": [
      "Found 2000 images belonging to 2 classes.\n",
      "Found 1000 images belonging to 2 classes.\n",
      "Epoch 1/20\n",
      "100/100 - 35s - loss: 0.6932 - accuracy: 0.5200 - val_loss: 0.6824 - val_accuracy: 0.4990 - 35s/epoch - 353ms/step\n",
      "Epoch 2/20\n",
      "100/100 - 42s - loss: 0.6795 - accuracy: 0.5640 - val_loss: 0.6510 - val_accuracy: 0.6360 - 42s/epoch - 417ms/step\n",
      "Epoch 3/20\n",
      "100/100 - 42s - loss: 0.6559 - accuracy: 0.6140 - val_loss: 0.6315 - val_accuracy: 0.6580 - 42s/epoch - 417ms/step\n",
      "Epoch 4/20\n",
      "100/100 - 36s - loss: 0.6350 - accuracy: 0.6385 - val_loss: 0.6193 - val_accuracy: 0.6170 - 36s/epoch - 355ms/step\n",
      "Epoch 5/20\n",
      "100/100 - 38s - loss: 0.6179 - accuracy: 0.6685 - val_loss: 0.5937 - val_accuracy: 0.6590 - 38s/epoch - 380ms/step\n",
      "Epoch 6/20\n",
      "100/100 - 39s - loss: 0.6073 - accuracy: 0.6660 - val_loss: 0.6038 - val_accuracy: 0.6670 - 39s/epoch - 392ms/step\n",
      "Epoch 7/20\n",
      "100/100 - 40s - loss: 0.6031 - accuracy: 0.6695 - val_loss: 0.5577 - val_accuracy: 0.7050 - 40s/epoch - 395ms/step\n",
      "Epoch 8/20\n",
      "100/100 - 37s - loss: 0.6009 - accuracy: 0.6770 - val_loss: 0.5722 - val_accuracy: 0.6950 - 37s/epoch - 372ms/step\n",
      "Epoch 9/20\n",
      "100/100 - 37s - loss: 0.5811 - accuracy: 0.6965 - val_loss: 0.6994 - val_accuracy: 0.5820 - 37s/epoch - 369ms/step\n",
      "Epoch 10/20\n",
      "100/100 - 35s - loss: 0.5843 - accuracy: 0.6950 - val_loss: 0.5458 - val_accuracy: 0.7120 - 35s/epoch - 354ms/step\n",
      "Epoch 11/20\n",
      "100/100 - 36s - loss: 0.5765 - accuracy: 0.6870 - val_loss: 0.5630 - val_accuracy: 0.7000 - 36s/epoch - 358ms/step\n",
      "Epoch 12/20\n",
      "100/100 - 38s - loss: 0.5693 - accuracy: 0.6955 - val_loss: 0.5536 - val_accuracy: 0.7070 - 38s/epoch - 382ms/step\n",
      "Epoch 13/20\n",
      "100/100 - 39s - loss: 0.5639 - accuracy: 0.7075 - val_loss: 0.5650 - val_accuracy: 0.7120 - 39s/epoch - 390ms/step\n",
      "Epoch 14/20\n",
      "100/100 - 39s - loss: 0.5584 - accuracy: 0.7105 - val_loss: 0.5447 - val_accuracy: 0.7200 - 39s/epoch - 390ms/step\n",
      "Epoch 15/20\n",
      "100/100 - 38s - loss: 0.5542 - accuracy: 0.7080 - val_loss: 0.5399 - val_accuracy: 0.7230 - 38s/epoch - 377ms/step\n",
      "Epoch 16/20\n",
      "100/100 - 37s - loss: 0.5490 - accuracy: 0.7260 - val_loss: 0.5142 - val_accuracy: 0.7300 - 37s/epoch - 375ms/step\n",
      "Epoch 17/20\n",
      "100/100 - 49s - loss: 0.5512 - accuracy: 0.7160 - val_loss: 0.5160 - val_accuracy: 0.7330 - 49s/epoch - 489ms/step\n",
      "Epoch 18/20\n",
      "100/100 - 56s - loss: 0.5389 - accuracy: 0.7375 - val_loss: 0.5082 - val_accuracy: 0.7390 - 56s/epoch - 560ms/step\n",
      "Epoch 19/20\n",
      "100/100 - 52s - loss: 0.5367 - accuracy: 0.7185 - val_loss: 0.5221 - val_accuracy: 0.7320 - 52s/epoch - 518ms/step\n",
      "Epoch 20/20\n",
      "100/100 - 47s - loss: 0.5218 - accuracy: 0.7290 - val_loss: 0.5528 - val_accuracy: 0.7220 - 47s/epoch - 469ms/step\n"
     ]
    }
   ],
   "source": [
    "# Create new model\n",
    "model_for_aug = create_model()\n",
    "\n",
    "train_datagen = ImageDataGenerator(\n",
    "      rescale=1./255,\n",
    "      rotation_range=40,\n",
    "      width_shift_range=0.2,\n",
    "      height_shift_range=0.2,\n",
    "      shear_range=0.2,\n",
    "      zoom_range=0.2,\n",
    "      horizontal_flip=True,\n",
    "      fill_mode='nearest')\n",
    "\n",
    "test_datagen = ImageDataGenerator(rescale=1./255)\n",
    "\n",
    "train_generator = train_datagen.flow_from_directory(\n",
    "        train_dir,  # This is the source directory for training images\n",
    "        target_size=(150, 150),  # All images will be resized to 150x150\n",
    "        batch_size=20,\n",
    "        # Since we use binary_crossentropy loss, we need binary labels\n",
    "        class_mode='binary')\n",
    "\n",
    "validation_generator = test_datagen.flow_from_directory(\n",
    "        validation_dir,\n",
    "        target_size=(150, 150),\n",
    "        batch_size=20,\n",
    "        class_mode='binary')\n",
    "\n",
    "history_with_aug = model_for_aug.fit(\n",
    "      train_generator,\n",
    "      steps_per_epoch=100,  # 2000 images = batch_size * steps\n",
    "      epochs=EPOCHS,\n",
    "      validation_data=validation_generator,\n",
    "      validation_steps=50,  # 1000 images = batch_size * steps\n",
    "      verbose=2)"
   ]
  },
  {
   "cell_type": "code",
   "execution_count": 8,
   "metadata": {
    "id": "bnyRnwopT5aW"
   },
   "outputs": [
    {
     "data": {
      "image/png": "[encoded data removed]",
      "text/plain": [
       "<Figure size 432x288 with 1 Axes>"
      ]
     },
     "metadata": {
      "needs_background": "light"
     },
     "output_type": "display_data"
    },
    {
     "data": {
      "image/png": "[encoded data removed]",
      "text/plain": [
       "<Figure size 432x288 with 1 Axes>"
      ]
     },
     "metadata": {
      "needs_background": "light"
     },
     "output_type": "display_data"
    }
   ],
   "source": [
    "# Plot the results of training with data augmentation\n",
    "plot_loss_acc(history_with_aug)"
   ]
  }
 ],
 "metadata": {
  "accelerator": "GPU",
  "colab": {
   "collapsed_sections": [],
   "name": "C2_W2_Lab_1_cats_v_dogs_augmentation.ipynb",
   "private_outputs": true,
   "provenance": [
    {
     "file_id": "https://github.com/https-deeplearning-ai/tensorflow-1-public/blob/adding_C2/C2/W2/ungraded_labs/C2_W2_Lab_1_cats_v_dogs_augmentation.ipynb",
     "timestamp": 1639637705486
    }
   ]
  },
  "kernelspec": {
   "display_name": "Python 3",
   "language": "python",
   "name": "python3"
  },
  "language_info": {
   "codemirror_mode": {
    "name": "ipython",
    "version": 3
   },
   "file_extension": ".py",
   "mimetype": "text/x-python",
   "name": "python",
   "nbconvert_exporter": "python",
   "pygments_lexer": "ipython3",
   "version": "3.8.8"
  }
 },
 "nbformat": 4,
 "nbformat_minor": 1
}
