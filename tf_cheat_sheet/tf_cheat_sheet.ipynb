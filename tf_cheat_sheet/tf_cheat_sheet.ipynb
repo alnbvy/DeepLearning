{
 "cells": [
  {
   "cell_type": "markdown",
   "id": "a016979f",
   "metadata": {},
   "source": [
    "# TensorFlow / Keras cheat sheet\n"
   ]
  },
  {
   "cell_type": "markdown",
   "id": "436f9ea0",
   "metadata": {},
   "source": [
    "<h3><a id=\"Imports\">Imports</a></h3>"
   ]
  },
  {
   "cell_type": "code",
   "execution_count": 4,
   "id": "f1f2e72a",
   "metadata": {
    "ExecuteTime": {
     "end_time": "2022-02-08T15:23:10.042097Z",
     "start_time": "2022-02-08T15:23:07.246852Z"
    }
   },
   "outputs": [
    {
     "name": "stdout",
     "output_type": "stream",
     "text": [
      "2.9.1\n"
     ]
    }
   ],
   "source": [
    "import numpy as np\n",
    "import pandas as pd\n",
    "import matplotlib.pyplot as plt\n",
    "\n",
    "import tensorflow as tf\n",
    "from tensorflow import keras\n",
    "from tensorflow.keras import layers\n",
    "\n",
    "# special imports for CV and NLP\n",
    "from tensorflow.keras.preprocessing.image import ImageDataGenerator\n",
    "from tensorflow.keras.preprocessing.text import Tokenizer\n",
    "from tensorflow.keras.preprocessing.sequence import pad_sequences\n",
    "\n",
    "print(tf.__version__)\n",
    "# 2.9.1"
   ]
  },
  {
   "cell_type": "markdown",
   "id": "ee279d50",
   "metadata": {},
   "source": [
    "<h3><a id=\"Helping\">Helping variables</a></h3>"
   ]
  },
  {
   "cell_type": "code",
   "execution_count": 5,
   "id": "fe0d2a47",
   "metadata": {
    "ExecuteTime": {
     "end_time": "2022-02-08T15:23:11.064979Z",
     "start_time": "2022-02-08T15:23:11.058995Z"
    }
   },
   "outputs": [],
   "source": [
    "NUM_EPOCHS = 2\n",
    "BATCH_SIZE = 32\n",
    "SEED = 1\n",
    "\n",
    "IMG_HEIGHT = 300\n",
    "IMG_WIDTH = 300\n",
    "CHANNELS = 3\n",
    "\n",
    "num_inputs = 1\n",
    "num_classes = 3\n",
    "\n",
    "X_train = np.array([1.0, 2.0, 3.0, 4.0, 5.0, 6.0, 8.0, 9.0, 10.0], dtype=float)\n",
    "y_train = np.array([1.0, 1.5, 2.0, 2.5, 3.0, 3.5, 4.5, 5.0, 5.5], dtype=float)\n",
    "\n",
    "X_test = np.array([7.0, 11.0], dtype=float)\n",
    "y_test = np.array([4.0, 6.0], dtype=float)"
   ]
  },
  {
   "cell_type": "markdown",
   "id": "22ebdd59",
   "metadata": {
    "ExecuteTime": {
     "end_time": "2022-02-03T22:01:05.716784Z",
     "start_time": "2022-02-03T22:01:05.709801Z"
    }
   },
   "source": [
    "<h3><a id=\"Get_data\">Get time series data</a></h3>"
   ]
  },
  {
   "cell_type": "code",
   "execution_count": 6,
   "id": "d0c5779e",
   "metadata": {
    "ExecuteTime": {
     "end_time": "2022-02-08T15:14:06.554282Z",
     "start_time": "2022-02-08T15:14:06.443690Z"
    }
   },
   "outputs": [
    {
     "data": {
      "image/png": "[encoded data removed]",
      "text/plain": [
       "<Figure size 432x288 with 1 Axes>"
      ]
     },
     "metadata": {
      "needs_background": "light"
     },
     "output_type": "display_data"
    }
   ],
   "source": [
    "# get some time series data\n",
    "# the original code is taken from:\n",
    "# https://github.com/https-deeplearning-ai/tensorflow-1-public\n",
    "\n",
    "def plot_series(time, series, format=\"-\", start=0, end=None):\n",
    "    plt.plot(time[start:end], series[start:end], format)\n",
    "    plt.xlabel(\"Time\")\n",
    "    plt.ylabel(\"Value\")\n",
    "    plt.grid(True)\n",
    "\n",
    "\n",
    "def trend(time, slope=0):\n",
    "    return slope * time\n",
    "\n",
    "\n",
    "def seasonal_pattern(season_time):\n",
    "    \"\"\" Just an arbitrary pattern \"\"\"\n",
    "    return np.where(season_time < 0.3,\n",
    "                    np.sin(season_time * 4 * np.pi),\n",
    "                    1 / np.exp(7 * season_time))\n",
    "\n",
    "\n",
    "def seasonality(time, period, amplitude=1, phase=0):\n",
    "    \"\"\" Repeats the same pattern at each period \"\"\"\n",
    "    season_time = ((time + phase) % period) / period\n",
    "    return amplitude * seasonal_pattern(season_time)\n",
    "\n",
    "\n",
    "def noise(time, noise_level=1, seed=None):\n",
    "    rnd = np.random.RandomState(seed)\n",
    "    return rnd.randn(len(time)) * noise_level\n",
    "\n",
    "\n",
    "time = np.arange(4 * 365 + 1, dtype=\"float32\")\n",
    "baseline = 10\n",
    "series = trend(time, 0.1)\n",
    "baseline = 10\n",
    "amplitude = 40\n",
    "slope = 0.01\n",
    "noise_level = 2\n",
    "\n",
    "# Create the series\n",
    "series = baseline + trend(time, slope) + \\\n",
    "    seasonality(time, period=365, amplitude=amplitude)\n",
    "# Update with noise\n",
    "series += noise(time, noise_level, seed=42)\n",
    "\n",
    "split_time = 3000\n",
    "time_train = time[:split_time]\n",
    "series_train = series[:split_time]\n",
    "\n",
    "WINDOW_SIZE = 20\n",
    "SHUFFLE_BUFFER_SIZE = 1000\n",
    "\n",
    "plot_series(time, series)"
   ]
  },
  {
   "cell_type": "code",
   "execution_count": 7,
   "id": "2f40e28d",
   "metadata": {
    "ExecuteTime": {
     "end_time": "2022-02-08T15:14:07.237306Z",
     "start_time": "2022-02-08T15:14:06.555249Z"
    }
   },
   "outputs": [],
   "source": [
    "def windowed_dataset(series, window_size, batch_size, shuffle_buffer):\n",
    "    dataset = tf.data.Dataset.from_tensor_slices(series)\n",
    "    dataset = dataset.window(window_size + 1, shift=1, drop_remainder=True)\n",
    "    dataset = dataset.flat_map(lambda window: window.batch(window_size + 1))\n",
    "    dataset = dataset.shuffle(shuffle_buffer).map(\n",
    "        lambda window: (window[:-1], window[-1]))\n",
    "    dataset = dataset.batch(batch_size).prefetch(1)\n",
    "    return dataset\n",
    "\n",
    "tf.keras.backend.clear_session()\n",
    "tf.random.set_seed(51)\n",
    "np.random.seed(51)\n",
    "\n",
    "dataset = windowed_dataset(series_train,\n",
    "                           WINDOW_SIZE,\n",
    "                           BATCH_SIZE,\n",
    "                           SHUFFLE_BUFFER_SIZE)"
   ]
  },
  {
   "cell_type": "markdown",
   "id": "ca6e4357",
   "metadata": {},
   "source": [
    "<h3><a id=\"DataGenerator\">ImageDataGenerator</a></h3>\n",
    "\n",
    "Official documentation - https://www.tensorflow.org/api_docs/python/tf/keras/preprocessing/image/ImageDataGenerator"
   ]
  },
  {
   "cell_type": "code",
   "execution_count": 8,
   "id": "72b7aef4",
   "metadata": {
    "ExecuteTime": {
     "end_time": "2022-02-08T15:14:08.033979Z",
     "start_time": "2022-02-08T15:14:07.237306Z"
    }
   },
   "outputs": [],
   "source": [
    "# extract Horse or Human datasets for computer vision (ImageDataGenerator)\n",
    "# downloaded from: https://laurencemoroney.com/datasets.html\n",
    "\n",
    "import os\n",
    "import zipfile\n",
    "import shutil\n",
    "\n",
    "# Get the Horse or Human dataset\n",
    "path_horse_or_human = \"data/horse-or-human.zip\"\n",
    "# Get the Horse or Human Validation dataset\n",
    "path_validation_horse_or_human = \"data/validation-horse-or-human.zip\"\n",
    "\n",
    "local_zip = path_horse_or_human\n",
    "zip_ref = zipfile.ZipFile(local_zip, 'r')\n",
    "zip_ref.extractall('data/horse-or-human')\n",
    "zip_ref.close()\n",
    "\n",
    "local_zip = path_validation_horse_or_human\n",
    "zip_ref = zipfile.ZipFile(local_zip, 'r')\n",
    "zip_ref.extractall('data/validation-horse-or-human')\n",
    "zip_ref.close()\n",
    "\n",
    "train_dir = 'data/horse-or-human'\n",
    "validation_dir = 'data/validation-horse-or-human'"
   ]
  },
  {
   "cell_type": "code",
   "execution_count": 9,
   "id": "c8c5234a",
   "metadata": {
    "ExecuteTime": {
     "end_time": "2022-02-08T15:14:08.095076Z",
     "start_time": "2022-02-08T15:14:08.033979Z"
    }
   },
   "outputs": [
    {
     "name": "stdout",
     "output_type": "stream",
     "text": [
      "Found 1027 images belonging to 2 classes.\n",
      "Found 256 images belonging to 2 classes.\n"
     ]
    }
   ],
   "source": [
    "# augmented ImageDataGenerator\n",
    "train_datagen = ImageDataGenerator(\n",
    "    rescale=1./255,\n",
    "    rotation_range=40,\n",
    "    width_shift_range=0.2,\n",
    "    height_shift_range=0.2,\n",
    "    shear_range=0.2,\n",
    "    zoom_range=0.2,\n",
    "    horizontal_flip=True,\n",
    "    fill_mode='nearest')\n",
    "\n",
    "# default ImageDataGenerator without augmentation\n",
    "validation_datagen = ImageDataGenerator(rescale=1./255)\n",
    "\n",
    "train_generator = train_datagen.flow_from_directory(\n",
    "    train_dir,\n",
    "    target_size=(IMG_HEIGHT, IMG_WIDTH),\n",
    "    batch_size=BATCH_SIZE,\n",
    "    class_mode='binary'  # 'categorical'\n",
    ")\n",
    "\n",
    "validation_generator = validation_datagen.flow_from_directory(\n",
    "    validation_dir,\n",
    "    target_size=(IMG_HEIGHT, IMG_WIDTH),\n",
    "    batch_size=BATCH_SIZE,\n",
    "    class_mode='binary'  # 'categorical'\n",
    ")"
   ]
  },
  {
   "cell_type": "code",
   "execution_count": 10,
   "id": "49e9efcc",
   "metadata": {
    "ExecuteTime": {
     "end_time": "2022-02-08T15:14:08.157032Z",
     "start_time": "2022-02-08T15:14:08.096009Z"
    }
   },
   "outputs": [
    {
     "name": "stdout",
     "output_type": "stream",
     "text": [
      "Found 822 images belonging to 2 classes.\n",
      "Found 205 images belonging to 2 classes.\n"
     ]
    }
   ],
   "source": [
    "# Another option is not to specify the validation set explicitly,\n",
    "# but to entrust the split to ImageDataGenerator\n",
    "# In this case, be sure that the seed parameter is the same\n",
    "# for both sets, otherwise the sets may overlap\n",
    "\n",
    "train_datagen = ImageDataGenerator(rescale=1./255,\n",
    "                                   # set validation split ratio\n",
    "                                   validation_split=0.2)\n",
    "\n",
    "train_generator = train_datagen.flow_from_directory(\n",
    "    train_dir,\n",
    "    target_size=(IMG_HEIGHT, IMG_WIDTH),\n",
    "    batch_size=BATCH_SIZE,\n",
    "    class_mode='binary',  # 'categorical'\n",
    "    subset='training',  # set as training data\n",
    "    seed=SEED)\n",
    "\n",
    "validation_generator = train_datagen.flow_from_directory(\n",
    "    train_dir,  # the same directory\n",
    "    target_size=(IMG_HEIGHT, IMG_WIDTH),\n",
    "    batch_size=BATCH_SIZE,\n",
    "    class_mode='binary',  # 'categorical'\n",
    "    subset='validation',  # set as validation data\n",
    "    seed=SEED)"
   ]
  },
  {
   "cell_type": "markdown",
   "id": "a42c3dd7",
   "metadata": {},
   "source": [
    "<h3><a id=\"Tokenize\">Tokenize and pad sentences</a></h3>\n",
    "\n",
    "- Official documentation for Tokenizer - https://www.tensorflow.org/api_docs/python/tf/keras/preprocessing/text/Tokenizer\n",
    "- Official documentation for pad_sequences method - https://www.tensorflow.org/api_docs/python/tf/keras/preprocessing/sequence/pad_sequences"
   ]
  },
  {
   "cell_type": "code",
   "execution_count": 11,
   "id": "94bd8665",
   "metadata": {
    "ExecuteTime": {
     "end_time": "2022-02-08T15:14:08.236814Z",
     "start_time": "2022-02-08T15:14:08.158034Z"
    }
   },
   "outputs": [
    {
     "name": "stdout",
     "output_type": "stream",
     "text": [
      "BBC news dataset dowloaded from https://www.kaggle.com/yufengdev/bbc-fulltext-and-category\n",
      "Dataset size: 2225\n",
      "Train set size: 1780\n",
      "Validation set size: 445\n",
      "\n",
      "First training sentence: yeading face newcastle in fa cup premiership side newcastle united face a trip to ryman premier league leaders yeading in the fa cup third round.  the game - arguably the highlight of the draw - is a potential money-spinner for non-league yeading  who beat slough in the second round. conference side exeter city  who knocked out doncaster on saturday  will travel to old trafford to meet holders manchester united in january. arsenal were drawn at home to stoke and chelsea will play host to scunthorpe. the only other non-league side in the draw are hinckley united  who held brentford to a goalless draw on sunday. they will meet league one leaders luton if they win their replay against martin allen s team at griffin park.  a number of premiership teams face difficult away games against championship sides on the weekend of 8/9 january. third-placed everton visit plymouth  liverpool travel to burnley  crystal palace go to sunderland  fulham face carling cup semi-finalists watford  bolton meet ipswich  while aston villa were drawn against sheffield united. premiership strugglers norwich  blackburn  west brom are away at west ham  cardiff and preston north end respectively. southampton visit northampton  having already beaten the league two side in the carling cup earlier this season. middlesbrough were drawn away against either swindon or notts county  while spurs entertain brighton at white hart lane.  arsenal v stoke  swindon/notts co v middlesbrough  man utd v exeter  plymouth v everton  leicester v blackpool  derby v wigan  sunderland v crystal palace  wolves v millwall  yeading v newcastle  hull v colchester  tottenham v brighton  reading v stockport/swansea  birmingham v leeds  hartlepool v boston  milton keynes dons v peterborough  oldham v man city  chelsea v scunthorpe  cardiff v blackburn  charlton v rochdale  west ham v norwich  sheff utd v aston villa  preston v west brom  rotherham v yeovil  burnley v liverpool  bournemouth v chester  coventry v crewe  watford v fulham  ipswich v bolton  portsmouth v gillingham  northampton v southampton  qpr v nottm forest  luton v hinckley/brentford  matches to be played on weekend of 8/9 january.\n",
      "First training label: [1]\n"
     ]
    }
   ],
   "source": [
    "# extract BBC news dataset for NLP\n",
    "# downloaded from: https://www.kaggle.com/yufengdev/bbc-fulltext-and-category\n",
    "\n",
    "import pandas as pd\n",
    "\n",
    "df = pd.read_csv('data/bbc-text.csv')\n",
    "\n",
    "sentences = df['text'].to_numpy()\n",
    "labels = df['category']\n",
    "dataset_size = len(sentences)\n",
    "training_size = int(len(sentences) * 0.8)\n",
    "\n",
    "training_sentences = sentences[:training_size]\n",
    "training_labels_text = labels[:training_size]\n",
    "validation_sentences = sentences[training_size:]\n",
    "validation_labels_text = labels[training_size:]\n",
    "\n",
    "label_tokenizer = Tokenizer()\n",
    "label_tokenizer.fit_on_texts(training_labels_text)\n",
    "\n",
    "training_labels = np.array(\n",
    "    label_tokenizer.texts_to_sequences(training_labels_text))\n",
    "validation_labels = np.array(\n",
    "    label_tokenizer.texts_to_sequences(validation_labels_text))\n",
    "\n",
    "num_classes_nlp = len(np.unique(training_labels))\n",
    "\n",
    "print('BBC news dataset dowloaded from https://www.kaggle.com/yufengdev/bbc-fulltext-and-category')\n",
    "print(f'Dataset size: {dataset_size}')\n",
    "print(f'Train set size: {len(training_sentences)}')\n",
    "print(f'Validation set size: {len(validation_sentences)}')\n",
    "print('')\n",
    "print(f'First training sentence: {training_sentences[3]}')\n",
    "print(f'First training label: {training_labels[3]}')"
   ]
  },
  {
   "cell_type": "code",
   "execution_count": 13,
   "id": "e9dd6bd6",
   "metadata": {
    "ExecuteTime": {
     "end_time": "2022-02-08T15:14:08.964453Z",
     "start_time": "2022-02-08T15:14:08.237812Z"
    }
   },
   "outputs": [],
   "source": [
    "# default parameters\n",
    "vocab_size = 1000\n",
    "embedding_dim = 32\n",
    "max_length = 100\n",
    "trunc_type = \"post\"\n",
    "padding_type = \"post\"\n",
    "oov_tok = \"<OOV>\"\n",
    "\n",
    "tokenizer = Tokenizer(num_words=vocab_size, oov_token=oov_tok)\n",
    "tokenizer.fit_on_texts(training_sentences)\n",
    "\n",
    "training_sequences = tokenizer.texts_to_sequences(training_sentences)\n",
    "training_padded = pad_sequences(training_sequences,\n",
    "                                maxlen=max_length,\n",
    "                                padding=padding_type,\n",
    "                                truncating=trunc_type)\n",
    "\n",
    "validation_sequences = tokenizer.texts_to_sequences(validation_sentences)\n",
    "validation_padded = pad_sequences(validation_sequences,\n",
    "                                  maxlen=max_length,\n",
    "                                  padding=padding_type)"
   ]
  },
  {
   "cell_type": "markdown",
   "id": "09883ad2",
   "metadata": {},
   "source": [
    "<h2><a id=\"Sequential\">1. Typical Neural Network Architectures using Sequential API</a></h2>\n",
    "\n",
    "Official documentation - https://www.tensorflow.org/guide/keras/sequential_model"
   ]
  },
  {
   "cell_type": "code",
   "execution_count": 14,
   "id": "7e514a5c",
   "metadata": {
    "ExecuteTime": {
     "end_time": "2022-02-08T15:14:09.056357Z",
     "start_time": "2022-02-08T15:14:09.003922Z"
    }
   },
   "outputs": [
    {
     "name": "stdout",
     "output_type": "stream",
     "text": [
      "Model: \"sequential\"\n",
      "_________________________________________________________________\n",
      " Layer (type)                Output Shape              Param #   \n",
      "=================================================================\n",
      " dense (Dense)               (None, 64)                128       \n",
      "                                                                 \n",
      " dropout (Dropout)           (None, 64)                0         \n",
      "                                                                 \n",
      " dense_1 (Dense)             (None, 32)                2080      \n",
      "                                                                 \n",
      " dropout_1 (Dropout)         (None, 32)                0         \n",
      "                                                                 \n",
      " dense_2 (Dense)             (None, 1)                 33        \n",
      "                                                                 \n",
      "=================================================================\n",
      "Total params: 2,241\n",
      "Trainable params: 2,241\n",
      "Non-trainable params: 0\n",
      "_________________________________________________________________\n"
     ]
    }
   ],
   "source": [
    "# DNN\n",
    "model = tf.keras.Sequential([\n",
    "    tf.keras.layers.Dense(units=64, activation='relu',\n",
    "                          input_shape=(num_inputs, )),\n",
    "    tf.keras.layers.Dropout(0.2),\n",
    "    tf.keras.layers.Dense(units=32, activation='relu'),\n",
    "    tf.keras.layers.Dropout(0.2),\n",
    "    tf.keras.layers.Dense(units=1, activation='relu'),  # regression\n",
    "])\n",
    "\n",
    "model.summary()"
   ]
  },
  {
   "cell_type": "code",
   "execution_count": 15,
   "id": "d4156d05",
   "metadata": {
    "ExecuteTime": {
     "end_time": "2022-02-08T15:14:09.384210Z",
     "start_time": "2022-02-08T15:14:09.321351Z"
    }
   },
   "outputs": [
    {
     "name": "stdout",
     "output_type": "stream",
     "text": [
      "Model: \"sequential_1\"\n",
      "_________________________________________________________________\n",
      " Layer (type)                Output Shape              Param #   \n",
      "=================================================================\n",
      " conv2d (Conv2D)             (None, 298, 298, 32)      896       \n",
      "                                                                 \n",
      " max_pooling2d (MaxPooling2D  (None, 149, 149, 32)     0         \n",
      " )                                                               \n",
      "                                                                 \n",
      " conv2d_1 (Conv2D)           (None, 147, 147, 64)      18496     \n",
      "                                                                 \n",
      " max_pooling2d_1 (MaxPooling  (None, 73, 73, 64)       0         \n",
      " 2D)                                                             \n",
      "                                                                 \n",
      " conv2d_2 (Conv2D)           (None, 71, 71, 128)       73856     \n",
      "                                                                 \n",
      " max_pooling2d_2 (MaxPooling  (None, 35, 35, 128)      0         \n",
      " 2D)                                                             \n",
      "                                                                 \n",
      " flatten (Flatten)           (None, 156800)            0         \n",
      "                                                                 \n",
      " dense_3 (Dense)             (None, 32)                5017632   \n",
      "                                                                 \n",
      " dropout_2 (Dropout)         (None, 32)                0         \n",
      "                                                                 \n",
      " dense_4 (Dense)             (None, 1)                 33        \n",
      "                                                                 \n",
      "=================================================================\n",
      "Total params: 5,110,913\n",
      "Trainable params: 5,110,913\n",
      "Non-trainable params: 0\n",
      "_________________________________________________________________\n"
     ]
    }
   ],
   "source": [
    "# CNN\n",
    "model = tf.keras.models.Sequential([\n",
    "    layers.Conv2D(32, (3, 3), activation='relu',\n",
    "                  input_shape=(IMG_HEIGHT, IMG_WIDTH, CHANNELS)),\n",
    "    layers.MaxPooling2D(2, 2),\n",
    "    layers.Conv2D(64, (3, 3), activation='relu'),\n",
    "    layers.MaxPooling2D(2, 2),\n",
    "    layers.Conv2D(128, (3, 3), activation='relu'),\n",
    "    layers.MaxPooling2D(2, 2),\n",
    "    layers.Flatten(),\n",
    "    layers.Dense(32, activation='relu'),\n",
    "    layers.Dropout(0.2),\n",
    "    layers.Dense(1, activation='sigmoid')  # binary classification\n",
    "    # multi-class classification\n",
    "    # layers.Dense(num_classes, activation='softmax')\n",
    "])\n",
    "\n",
    "model.summary()"
   ]
  },
  {
   "cell_type": "code",
   "execution_count": 16,
   "id": "884a8fd1",
   "metadata": {
    "ExecuteTime": {
     "end_time": "2022-02-08T15:14:10.221549Z",
     "start_time": "2022-02-08T15:14:09.662444Z"
    }
   },
   "outputs": [
    {
     "name": "stdout",
     "output_type": "stream",
     "text": [
      "Model: \"sequential_2\"\n",
      "_________________________________________________________________\n",
      " Layer (type)                Output Shape              Param #   \n",
      "=================================================================\n",
      " embedding (Embedding)       (None, 100, 32)           32000     \n",
      "                                                                 \n",
      " bidirectional (Bidirectiona  (None, 100, 64)          16640     \n",
      " l)                                                              \n",
      "                                                                 \n",
      " bidirectional_1 (Bidirectio  (None, 32)               10368     \n",
      " nal)                                                            \n",
      "                                                                 \n",
      " dropout_3 (Dropout)         (None, 32)                0         \n",
      "                                                                 \n",
      " dense_5 (Dense)             (None, 16)                528       \n",
      "                                                                 \n",
      " dense_6 (Dense)             (None, 6)                 102       \n",
      "                                                                 \n",
      "=================================================================\n",
      "Total params: 59,638\n",
      "Trainable params: 59,638\n",
      "Non-trainable params: 0\n",
      "_________________________________________________________________\n"
     ]
    }
   ],
   "source": [
    "# RNN for NLP\n",
    "model = tf.keras.Sequential([\n",
    "    layers.Embedding(vocab_size,\n",
    "                     embedding_dim,\n",
    "                     input_length=max_length),\n",
    "    layers.Bidirectional(layers.LSTM(32, return_sequences=True)),\n",
    "    layers.Bidirectional(layers.LSTM(16)),\n",
    "    layers.Dropout(0.3),\n",
    "    layers.Dense(16, activation='relu'),\n",
    "    layers.Dense(6, activation='softmax')  # multiclass classification\n",
    "])\n",
    "\n",
    "model.summary()"
   ]
  },
  {
   "cell_type": "code",
   "execution_count": 17,
   "id": "871fe320",
   "metadata": {
    "ExecuteTime": {
     "end_time": "2022-02-08T15:14:10.771325Z",
     "start_time": "2022-02-08T15:14:10.380316Z"
    }
   },
   "outputs": [
    {
     "name": "stdout",
     "output_type": "stream",
     "text": [
      "Model: \"sequential_3\"\n",
      "_________________________________________________________________\n",
      " Layer (type)                Output Shape              Param #   \n",
      "=================================================================\n",
      " conv1d (Conv1D)             (None, 20, 128)           1024      \n",
      "                                                                 \n",
      " lstm_2 (LSTM)               (None, 20, 32)            20608     \n",
      "                                                                 \n",
      " lstm_3 (LSTM)               (None, 20, 16)            3136      \n",
      "                                                                 \n",
      " dense_7 (Dense)             (None, 20, 16)            272       \n",
      "                                                                 \n",
      " dense_8 (Dense)             (None, 20, 1)             17        \n",
      "                                                                 \n",
      "=================================================================\n",
      "Total params: 25,057\n",
      "Trainable params: 25,057\n",
      "Non-trainable params: 0\n",
      "_________________________________________________________________\n"
     ]
    }
   ],
   "source": [
    "# RNN for time series\n",
    "model = tf.keras.Sequential([\n",
    "    layers.Conv1D(filters=128, kernel_size=7,\n",
    "                  strides=1, padding=\"causal\",\n",
    "                  activation=\"relu\",\n",
    "                  input_shape=(WINDOW_SIZE, 1)),\n",
    "    # univariate time series - predict a value based on\n",
    "    # 'WINDOW_SIZE' previous steps for 1 feature\n",
    "\n",
    "    layers.LSTM(32, return_sequences=True),\n",
    "    layers.LSTM(16, return_sequences=True),\n",
    "    layers.Dense(16, activation=\"relu\"),\n",
    "    layers.Dense(1)  # predict one value\n",
    "])\n",
    "\n",
    "model.summary()"
   ]
  },
  {
   "cell_type": "markdown",
   "id": "0c64b6c4",
   "metadata": {},
   "source": [
    "<h2><a id=\"Functional\">2. More Complex Neural Network Architecture using Functional API</a></h2>\n",
    "\n",
    "Official documentation - https://www.tensorflow.org/guide/keras/functional"
   ]
  },
  {
   "cell_type": "code",
   "execution_count": 19,
   "id": "a5737fcc",
   "metadata": {
    "ExecuteTime": {
     "end_time": "2022-02-08T15:14:13.070389Z",
     "start_time": "2022-02-08T15:14:11.721055Z"
    }
   },
   "outputs": [],
   "source": [
    "# variable-size input for text\n",
    "text_input = tf.keras.Input(shape=(None,), name=\"text_input\")\n",
    "\n",
    "# input for images IMG_HEIGHT x IMG_WEGTH x CHANNELS\n",
    "image_input = tf.keras.Input(shape=(IMG_HEIGHT, IMG_WIDTH, CHANNELS),\n",
    "                             name=\"image_input\")\n",
    "\n",
    "# input for numbers ('num_inputs' variables)\n",
    "numbers_input = tf.keras.Input(shape=(num_inputs,), name=\"numbers_input\")\n",
    "\n",
    "# processing text\n",
    "text_features = layers.Embedding(max_length,\n",
    "                                 embedding_dim,\n",
    "                                 input_length=max_length)(text_input)\n",
    "text_features_buf = layers.Bidirectional(\n",
    "    layers.LSTM(64, return_sequences=True))(text_features)\n",
    "text_features = layers.Bidirectional(layers.LSTM(\n",
    "    64, return_sequences=True))(text_features_buf)\n",
    "text_features = layers.Bidirectional(\n",
    "    layers.LSTM(64, return_sequences=True))(text_features)\n",
    "text_features = layers.Add()([text_features, text_features_buf])\n",
    "text_features = layers.LayerNormalization()(text_features)\n",
    "text_features = layers.Bidirectional(layers.LSTM(32))(text_features)\n",
    "\n",
    "# processing images\n",
    "image_features = layers.Conv2D(32, (3, 3), activation='relu')(image_input)\n",
    "image_features = layers.MaxPooling2D(2, 2)(image_features)\n",
    "image_features = layers.Conv2D(32, (3, 3), activation='relu')(image_features)\n",
    "image_features = layers.MaxPooling2D(2, 2)(image_features)\n",
    "image_features = layers.Flatten()(image_features)\n",
    "\n",
    "# processing numbers\n",
    "numbers_features = layers.Dense(units=64, activation='relu')(numbers_input)\n",
    "numbers_features_buf = layers.Dense(\n",
    "    units=32, activation='relu')(numbers_features)\n",
    "numbers_features = layers.Dense(\n",
    "    units=32, activation='relu')(numbers_features_buf)\n",
    "numbers_features = layers.Dense(units=32, activation='relu')(numbers_features)\n",
    "numbers_features = layers.Add()([numbers_features, numbers_features_buf])\n",
    "numbers_features = layers.LayerNormalization()(numbers_features)\n",
    "\n",
    "# merge all available features into a single large vector\n",
    "concat = layers.concatenate([text_features,\n",
    "                             image_features,\n",
    "                             numbers_features])\n",
    "\n",
    "intermediate_output = tf.keras.layers.Dense(64, activation='relu')(concat)\n",
    "\n",
    "# final part of the model\n",
    "dense_1 = layers.Dense(64, activation='relu')(concat)\n",
    "dropout_1 = layers.Dropout(0.2)(dense_1)\n",
    "dense_2 = layers.Dense(32, activation='relu')(dropout_1)\n",
    "dropout_2 = layers.Dropout(0.2)(dense_2)\n",
    "output = layers.Dense(1, activation='relu')(dropout_2)\n",
    "\n",
    "model = tf.keras.Model(inputs=[text_input, image_input, numbers_input],\n",
    "                       outputs=[intermediate_output, output])\n",
    "\n",
    "\n",
    "from tensorflow.keras.utils import plot_model\n",
    "# plot_model(model, show_shapes=True,\n",
    "#            show_layer_names=False, to_file='data/img/model.png')"
   ]
  },
  {
   "cell_type": "markdown",
   "id": "a14edba5",
   "metadata": {},
   "source": [
    "<h2><a id=\"Compile\">3. Compile the model</a></h2>\n",
    "\n",
    "Official documentation - https://www.tensorflow.org/api_docs/python/tf/keras/Model#compile\n",
    "- See all optimizers - https://keras.io/api/optimizers/#available-optimizers\n",
    "- See all losses - https://keras.io/api/losses/\n",
    "- See all metrics - https://keras.io/api/metrics/"
   ]
  },
  {
   "cell_type": "code",
   "execution_count": 20,
   "id": "0bf96685",
   "metadata": {
    "ExecuteTime": {
     "end_time": "2022-02-08T15:14:13.505464Z",
     "start_time": "2022-02-08T15:14:13.489536Z"
    }
   },
   "outputs": [],
   "source": [
    "model.compile(optimizer='adam',\n",
    "              loss='sparse_categorical_crossentropy',\n",
    "              metrics=['accuracy'])\n",
    "\n",
    "# Typical optimizers:\n",
    "# - tf.keras.optimizers.Adam(learning_rate=0.001)\n",
    "# - tf.keras.optimizers.RMSprop(learning_rate=0.001)\n",
    "\n",
    "# Typical classification losses:\n",
    "# - tf.keras.losses.BinaryCrossentropy()\n",
    "# - tf.keras.losses.CategoricalCrossentropy()        # y - one-hot\n",
    "# - tf.keras.losses.SparseCategoricalCrossentropy()  # y - integer\n",
    "\n",
    "# Typical regression losses:\n",
    "# - tf.keras.losses.MeanSquaredError()\n",
    "# - tf.keras.losses.MeanAbsoluteError()\n",
    "# - tf.keras.losses.Huber()\n",
    "\n",
    "# Typical metrics\n",
    "# - ['accuracy'] # for classification\n",
    "# - ['mse', 'mae'] # for regression"
   ]
  },
  {
   "cell_type": "markdown",
   "id": "40fcfd84",
   "metadata": {},
   "source": [
    "<h2><a id=\"Train\">4. Train the model</a></h2>\n",
    "\n",
    "Official documentation - https://www.tensorflow.org/api_docs/python/tf/keras/Model#fit\n",
    "- See all callbacks - https://www.tensorflow.org/api_docs/python/tf/keras/callbacks\n",
    "- ModelCheckpoint - https://www.tensorflow.org/api_docs/python/tf/keras/callbacks/ModelCheckpoint\n",
    "- EarlyStopping - https://www.tensorflow.org/api_docs/python/tf/keras/callbacks/EarlyStopping"
   ]
  },
  {
   "cell_type": "code",
   "execution_count": 21,
   "id": "49286522",
   "metadata": {
    "ExecuteTime": {
     "end_time": "2022-02-08T15:23:26.831370Z",
     "start_time": "2022-02-08T15:23:26.814416Z"
    }
   },
   "outputs": [],
   "source": [
    "# callbacks\n",
    "checkpoint_cb = tf.keras.callbacks.ModelCheckpoint(\n",
    "    filepath='data/model_callback.h5',\n",
    "    save_weights_only=True,\n",
    "    monitor='val_loss',  # 'val_accuracy'\n",
    "    mode='min',  # 'max'\n",
    "    save_best_only=True,\n",
    "    verbose=1)\n",
    "\n",
    "earlystop_cb = tf.keras.callbacks.EarlyStopping(\n",
    "    monitor='loss',\n",
    "    patience=5,\n",
    "    verbose=1)\n",
    "\n",
    "callbacks = [earlystop_cb, checkpoint_cb]"
   ]
  },
  {
   "cell_type": "code",
   "execution_count": 28,
   "id": "d2ea4e6e",
   "metadata": {
    "ExecuteTime": {
     "end_time": "2022-02-08T15:23:28.449153Z",
     "start_time": "2022-02-08T15:23:26.915735Z"
    },
    "scrolled": true
   },
   "outputs": [
    {
     "name": "stdout",
     "output_type": "stream",
     "text": [
      "Model: \"sequential_9\"\n",
      "_________________________________________________________________\n",
      " Layer (type)                Output Shape              Param #   \n",
      "=================================================================\n",
      " dense_36 (Dense)            (None, 64)                128       \n",
      "                                                                 \n",
      " dropout_13 (Dropout)        (None, 64)                0         \n",
      "                                                                 \n",
      " dense_37 (Dense)            (None, 32)                2080      \n",
      "                                                                 \n",
      " dropout_14 (Dropout)        (None, 32)                0         \n",
      "                                                                 \n",
      " dense_38 (Dense)            (None, 1)                 33        \n",
      "                                                                 \n",
      "=================================================================\n",
      "Total params: 2,241\n",
      "Trainable params: 2,241\n",
      "Non-trainable params: 0\n",
      "_________________________________________________________________\n",
      "Epoch 1/2\n",
      "1/1 [==============================] - ETA: 0s - loss: 9.7810\n",
      "Epoch 1: val_loss did not improve from 30.25000\n",
      "1/1 [==============================] - 1s 701ms/step - loss: 9.7810 - val_loss: 30.2500\n",
      "Epoch 2/2\n",
      "1/1 [==============================] - ETA: 0s - loss: 8.4824\n",
      "Epoch 2: val_loss improved from 30.25000 to 10.06970, saving model to data/model_callback.h5\n",
      "1/1 [==============================] - 0s 27ms/step - loss: 8.4824 - val_loss: 10.0697\n"
     ]
    }
   ],
   "source": [
    "# DNN\n",
    "model = tf.keras.Sequential([\n",
    "    tf.keras.layers.Dense(units=64, activation='relu',\n",
    "                          input_shape=(num_inputs, )),\n",
    "    tf.keras.layers.Dropout(0.2),\n",
    "    tf.keras.layers.Dense(units=32, activation='relu'),\n",
    "    tf.keras.layers.Dropout(0.2),\n",
    "    tf.keras.layers.Dense(units=1, activation='relu'),  # regression\n",
    "])\n",
    "\n",
    "model.summary()\n",
    "\n",
    "model.compile(optimizer='sgd',\n",
    "              loss='mse')\n",
    "\n",
    "# from regular array data - see DNN architecture\n",
    "history = model.fit(\n",
    "    x=X_train,\n",
    "    y=y_train,\n",
    "    validation_split=0.1,\n",
    "    batch_size=BATCH_SIZE,\n",
    "    epochs=NUM_EPOCHS,\n",
    "    callbacks=callbacks,  # using callbacks\n",
    "    verbose=1)"
   ]
  },
  {
   "cell_type": "code",
   "execution_count": 27,
   "id": "3b7536ea",
   "metadata": {
    "ExecuteTime": {
     "end_time": "2022-02-08T15:15:17.783988Z",
     "start_time": "2022-02-08T15:15:07.939922Z"
    },
    "scrolled": true
   },
   "outputs": [
    {
     "name": "stdout",
     "output_type": "stream",
     "text": [
      "Model: \"sequential_8\"\n",
      "_________________________________________________________________\n",
      " Layer (type)                Output Shape              Param #   \n",
      "=================================================================\n",
      " conv2d_10 (Conv2D)          (None, 298, 298, 32)      896       \n",
      "                                                                 \n",
      " max_pooling2d_10 (MaxPoolin  (None, 149, 149, 32)     0         \n",
      " g2D)                                                            \n",
      "                                                                 \n",
      " conv2d_11 (Conv2D)          (None, 147, 147, 64)      18496     \n",
      "                                                                 \n",
      " max_pooling2d_11 (MaxPoolin  (None, 73, 73, 64)       0         \n",
      " g2D)                                                            \n",
      "                                                                 \n",
      " conv2d_12 (Conv2D)          (None, 71, 71, 128)       73856     \n",
      "                                                                 \n",
      " max_pooling2d_12 (MaxPoolin  (None, 35, 35, 128)      0         \n",
      " g2D)                                                            \n",
      "                                                                 \n",
      " flatten_4 (Flatten)         (None, 156800)            0         \n",
      "                                                                 \n",
      " dense_34 (Dense)            (None, 32)                5017632   \n",
      "                                                                 \n",
      " dropout_12 (Dropout)        (None, 32)                0         \n",
      "                                                                 \n",
      " dense_35 (Dense)            (None, 1)                 33        \n",
      "                                                                 \n",
      "=================================================================\n",
      "Total params: 5,110,913\n",
      "Trainable params: 5,110,913\n",
      "Non-trainable params: 0\n",
      "_________________________________________________________________\n",
      "Epoch 1/2\n",
      "25/25 [==============================] - 33s 1s/step - loss: 0.6087 - accuracy: 0.7076 - val_loss: 0.3111 - val_accuracy: 0.8958\n",
      "Epoch 2/2\n",
      "25/25 [==============================] - 33s 1s/step - loss: 0.1607 - accuracy: 0.9354 - val_loss: 0.1801 - val_accuracy: 0.9115\n"
     ]
    }
   ],
   "source": [
    "# CNN\n",
    "model = tf.keras.models.Sequential([\n",
    "    layers.Conv2D(32, (3, 3), activation='relu',\n",
    "                  input_shape=(IMG_HEIGHT, IMG_WIDTH, CHANNELS)),\n",
    "    layers.MaxPooling2D(2, 2),\n",
    "    layers.Conv2D(64, (3, 3), activation='relu'),\n",
    "    layers.MaxPooling2D(2, 2),\n",
    "    layers.Conv2D(128, (3, 3), activation='relu'),\n",
    "    layers.MaxPooling2D(2, 2),\n",
    "    layers.Flatten(),\n",
    "    layers.Dense(32, activation='relu'),\n",
    "    layers.Dropout(0.2),\n",
    "    layers.Dense(1, activation='sigmoid')  # binary classification\n",
    "    # multi-class classification\n",
    "    # layers.Dense(num_classes, activation='softmax')\n",
    "])\n",
    "\n",
    "model.summary()\n",
    "\n",
    "model.compile(optimizer='adam',\n",
    "              loss='binary_crossentropy',\n",
    "              metrics=['accuracy'])\n",
    "\n",
    "# from ImageDataGenerator - see CNN architecture\n",
    "history = model.fit(\n",
    "    train_generator,\n",
    "    steps_per_epoch=train_generator.samples // BATCH_SIZE,\n",
    "    epochs=NUM_EPOCHS,\n",
    "    validation_data=validation_generator,\n",
    "    validation_steps=validation_generator.samples // BATCH_SIZE,\n",
    "    verbose=1)"
   ]
  },
  {
   "cell_type": "code",
   "execution_count": 24,
   "id": "75e55547",
   "metadata": {
    "ExecuteTime": {
     "end_time": "2022-02-08T15:15:25.261303Z",
     "start_time": "2022-02-08T15:15:17.783988Z"
    },
    "scrolled": true
   },
   "outputs": [
    {
     "name": "stdout",
     "output_type": "stream",
     "text": [
      "Model: \"sequential_6\"\n",
      "_________________________________________________________________\n",
      " Layer (type)                Output Shape              Param #   \n",
      "=================================================================\n",
      " embedding_3 (Embedding)     (None, 100, 32)           32000     \n",
      "                                                                 \n",
      " bidirectional_10 (Bidirecti  (None, 100, 64)          16640     \n",
      " onal)                                                           \n",
      "                                                                 \n",
      " bidirectional_11 (Bidirecti  (None, 32)               10368     \n",
      " onal)                                                           \n",
      "                                                                 \n",
      " dropout_11 (Dropout)        (None, 32)                0         \n",
      "                                                                 \n",
      " dense_30 (Dense)            (None, 16)                528       \n",
      "                                                                 \n",
      " dense_31 (Dense)            (None, 6)                 102       \n",
      "                                                                 \n",
      "=================================================================\n",
      "Total params: 59,638\n",
      "Trainable params: 59,638\n",
      "Non-trainable params: 0\n",
      "_________________________________________________________________\n",
      "Epoch 1/2\n",
      "56/56 [==============================] - 9s 78ms/step - loss: 1.7527 - accuracy: 0.2219 - val_loss: 1.7123 - val_accuracy: 0.2382\n",
      "Epoch 2/2\n",
      "56/56 [==============================] - 3s 61ms/step - loss: 1.4768 - accuracy: 0.3730 - val_loss: 1.4011 - val_accuracy: 0.4000\n"
     ]
    }
   ],
   "source": [
    "# RNN for NLP\n",
    "model = tf.keras.Sequential([\n",
    "    layers.Embedding(vocab_size,\n",
    "                     embedding_dim,\n",
    "                     input_length=max_length),\n",
    "    layers.Bidirectional(layers.LSTM(32, return_sequences=True)),\n",
    "    layers.Bidirectional(layers.LSTM(16)),\n",
    "    layers.Dropout(0.3),\n",
    "    layers.Dense(16, activation='relu'),\n",
    "    layers.Dense(6, activation='softmax')  # multiclass classification\n",
    "])\n",
    "\n",
    "model.summary()\n",
    "\n",
    "model.compile(optimizer='adam',\n",
    "              loss='sparse_categorical_crossentropy',\n",
    "              metrics=['accuracy'])\n",
    "\n",
    "# from padded sequences - see RNN for NLP architecture\n",
    "history = model.fit(\n",
    "    training_padded,\n",
    "    training_labels,\n",
    "    epochs=NUM_EPOCHS,\n",
    "    validation_data=(validation_padded, validation_labels),\n",
    "    verbose=1)"
   ]
  },
  {
   "cell_type": "code",
   "execution_count": 25,
   "id": "2282616a",
   "metadata": {
    "ExecuteTime": {
     "end_time": "2022-02-08T15:15:31.471535Z",
     "start_time": "2022-02-08T15:15:28.045711Z"
    },
    "scrolled": true
   },
   "outputs": [
    {
     "name": "stdout",
     "output_type": "stream",
     "text": [
      "Model: \"sequential_7\"\n",
      "_________________________________________________________________\n",
      " Layer (type)                Output Shape              Param #   \n",
      "=================================================================\n",
      " conv1d_1 (Conv1D)           (None, 20, 128)           1024      \n",
      "                                                                 \n",
      " lstm_14 (LSTM)              (None, 20, 32)            20608     \n",
      "                                                                 \n",
      " lstm_15 (LSTM)              (None, 20, 16)            3136      \n",
      "                                                                 \n",
      " dense_32 (Dense)            (None, 20, 16)            272       \n",
      "                                                                 \n",
      " dense_33 (Dense)            (None, 20, 1)             17        \n",
      "                                                                 \n",
      "=================================================================\n",
      "Total params: 25,057\n",
      "Trainable params: 25,057\n",
      "Non-trainable params: 0\n",
      "_________________________________________________________________\n",
      "Epoch 1/2\n",
      "46/46 [==============================] - 3s 13ms/step - loss: 641.0424 - mse: 641.0425 - mae: 21.7856\n",
      "Epoch 2/2\n",
      "46/46 [==============================] - 1s 10ms/step - loss: 483.2181 - mse: 483.2181 - mae: 17.8927\n"
     ]
    }
   ],
   "source": [
    "# RNN for time series\n",
    "model = tf.keras.Sequential([\n",
    "    layers.Conv1D(filters=128, kernel_size=7,\n",
    "                  strides=1, padding=\"causal\",\n",
    "                  activation=\"relu\",\n",
    "                  input_shape=(WINDOW_SIZE, 1)),\n",
    "    # univariate time series - predict a value based on\n",
    "    # 'WINDOW_SIZE' previous steps for 1 feature\n",
    "\n",
    "    layers.LSTM(32, return_sequences=True),\n",
    "    layers.LSTM(16, return_sequences=True),\n",
    "    layers.Dense(16, activation=\"relu\"),\n",
    "    layers.Dense(1)  # predict one value\n",
    "])\n",
    "\n",
    "model.summary()\n",
    "\n",
    "model.compile(optimizer='adam',\n",
    "              loss='mse',\n",
    "              metrics=['mse', 'mae'])\n",
    "\n",
    "# from tf.data.Dataset - see RNN for time series architecture\n",
    "history = model.fit(\n",
    "    dataset,\n",
    "    epochs=NUM_EPOCHS)"
   ]
  },
  {
   "cell_type": "markdown",
   "id": "6a6c6792",
   "metadata": {},
   "source": [
    "<h2><a id=\"Explore\">5. Explore learning curves</a></h2>"
   ]
  },
  {
   "cell_type": "code",
   "execution_count": 33,
   "id": "527aed68",
   "metadata": {
    "ExecuteTime": {
     "end_time": "2022-02-08T15:13:45.379473Z",
     "start_time": "2022-02-08T15:13:45.212977Z"
    }
   },
   "outputs": [
    {
     "data": {
      "image/png": "[encoded data removed]",
      "text/plain": [
       "<Figure size 432x288 with 1 Axes>"
      ]
     },
     "metadata": {
      "needs_background": "light"
     },
     "output_type": "display_data"
    }
   ],
   "source": [
    "# code is taken from:\n",
    "# https://github.com/https-deeplearning-ai/tensorflow-1-public\n",
    "\n",
    "def plot_learning_curves(history, parameter):\n",
    "    \"\"\" \n",
    "    Plot learning curves from 'history' object.\n",
    "\n",
    "    Parameters:\n",
    "        history (History object): result of the `fit` method execution\n",
    "        parameter (str): parameter to explore: 'accuracy', 'loss', etc.\n",
    "\n",
    "    >>> history = model.fit(...)\n",
    "    >>> plot_learning_curves(history, \"loss\")\n",
    "    >>> plot_learning_curves(history, \"accuracy\")\n",
    "    >>> plot_learning_curves(history, \"mse\")\n",
    "    \"\"\"\n",
    "\n",
    "    plt.plot(history.history[parameter])\n",
    "    plt.plot(history.history['val_'+parameter])\n",
    "    plt.xlabel(\"Epochs\")\n",
    "    plt.ylabel(parameter)\n",
    "    plt.legend([parameter, 'val_'+parameter])\n",
    "    plt.show()\n",
    "\n",
    "\n",
    "plot_learning_curves(history, \"loss\")\n",
    "# plot_learning_curves(history, \"accuracy\")\n",
    "# plot_learning_curves(history, \"mse\")"
   ]
  },
  {
   "cell_type": "markdown",
   "id": "4b1f3ba0",
   "metadata": {},
   "source": [
    "<h2><a id=\"Evaluate\">6. Evaluate the model</a></h2>\n",
    "\n",
    "Official documentation  - https://www.tensorflow.org/api_docs/python/tf/keras/Model#evaluate"
   ]
  },
  {
   "cell_type": "code",
   "execution_count": 36,
   "id": "30a2c3f3",
   "metadata": {
    "ExecuteTime": {
     "end_time": "2022-02-08T15:12:34.795281Z",
     "start_time": "2022-02-08T15:12:34.746977Z"
    }
   },
   "outputs": [
    {
     "name": "stdout",
     "output_type": "stream",
     "text": [
      "1/1 [==============================] - 0s 66ms/step\n"
     ]
    },
    {
     "data": {
      "text/plain": [
       "array([[1.6546547],\n",
       "       [2.5507429]], dtype=float32)"
      ]
     },
     "execution_count": 36,
     "metadata": {},
     "output_type": "execute_result"
    }
   ],
   "source": [
    "model.predict(X_test)"
   ]
  },
  {
   "cell_type": "code",
   "execution_count": 38,
   "id": "4ca31c0d",
   "metadata": {},
   "outputs": [
    {
     "name": "stdout",
     "output_type": "stream",
     "text": [
      "1/1 [==============================] - 0s 17ms/step - loss: 8.6990\n"
     ]
    },
    {
     "data": {
      "text/plain": [
       "8.699009895324707"
      ]
     },
     "execution_count": 38,
     "metadata": {},
     "output_type": "execute_result"
    }
   ],
   "source": [
    "model.evaluate(X_test,y_test)"
   ]
  },
  {
   "cell_type": "markdown",
   "id": "035d284c",
   "metadata": {
    "ExecuteTime": {
     "end_time": "2022-02-02T15:08:21.138297Z",
     "start_time": "2022-02-02T15:08:21.128327Z"
    }
   },
   "source": [
    "<h2><a id=\"Save\">7. Save and load the model</a></h2>\n",
    "\n",
    "- Official documentation for `save` method - https://www.tensorflow.org/api_docs/python/tf/keras/Model#save\n",
    "- Official documentation for `load_model` function - https://www.tensorflow.org/api_docs/python/tf/keras/models/load_model"
   ]
  },
  {
   "cell_type": "code",
   "execution_count": 39,
   "id": "a89c6b54",
   "metadata": {
    "ExecuteTime": {
     "end_time": "2022-02-08T15:12:37.964829Z",
     "start_time": "2022-02-08T15:12:37.893723Z"
    }
   },
   "outputs": [],
   "source": [
    "model_path = 'data/model.h5'\n",
    "model.save(model_path)\n",
    "model = tf.keras.models.load_model(model_path)"
   ]
  },
  {
   "cell_type": "code",
   "execution_count": 40,
   "id": "89247e33",
   "metadata": {
    "ExecuteTime": {
     "end_time": "2022-02-08T15:12:39.748098Z",
     "start_time": "2022-02-08T15:12:39.724145Z"
    }
   },
   "outputs": [],
   "source": [
    "# save using current date and time in filename\n",
    "import time\n",
    "current_time = time.strftime(\"%Y_%m_%d-%H_%M_%S\")\n",
    "model_path = f'data/model_{current_time}.h5'\n",
    "model.save(model_path)"
   ]
  }
 ],
 "metadata": {
  "kernelspec": {
   "display_name": "Python 3",
   "language": "python",
   "name": "python3"
  },
  "language_info": {
   "codemirror_mode": {
    "name": "ipython",
    "version": 3
   },
   "file_extension": ".py",
   "mimetype": "text/x-python",
   "name": "python",
   "nbconvert_exporter": "python",
   "pygments_lexer": "ipython3",
   "version": "3.8.8"
  }
 },
 "nbformat": 4,
 "nbformat_minor": 5
}
